{
 "cells": [
  {
   "cell_type": "markdown",
   "metadata": {},
   "source": [
    "### Linked Lists \n",
    "\n",
    "Linked Lists are the most basics data structure for handling dynamic elements. They consist of data elements known as nodes, which contain multiple fields. One field has data while the others hold references to either the next node or previous nodes. \n",
    "\n",
    "The simplest implementation of a linked list is the forward-list, which is implemented below"
   ]
  },
  {
   "cell_type": "markdown",
   "metadata": {},
   "source": [
    "#### The Node Class\n",
    "\n",
    "For a forward-list the node class only requires a 'next' member variable\n"
   ]
  },
  {
   "cell_type": "code",
   "execution_count": 3,
   "metadata": {},
   "outputs": [],
   "source": [
    "class Node: \n",
    "    def __init__(self, data):\n",
    "        self.data = data\n",
    "        self.next = None"
   ]
  },
  {
   "cell_type": "markdown",
   "metadata": {},
   "source": [
    "#### The LinkedList Class\n",
    "\n",
    "The linked list needs to store a head variable and support a couple of methods:\n",
    " - Insert\n",
    " - Delete\n",
    "\n",
    "Additionally linked lists could implement index based insertion and deletion although these would be O(N) rather than O(1) as is the case with a traditional python list."
   ]
  },
  {
   "cell_type": "code",
   "execution_count": 12,
   "metadata": {},
   "outputs": [],
   "source": [
    "class LinkedList:\n",
    "\n",
    "    # Initialize the linked list\n",
    "    def __init__(self):\n",
    "        self.head = None\n",
    "\n",
    "    # Create the base insertion operator\n",
    "    def insert_node(self, node):\n",
    "        if self.head == None:\n",
    "            self.head = node\n",
    "        else:\n",
    "            current_node = self.head\n",
    "\n",
    "            while current_node.next:\n",
    "                current_node = current_node.next\n",
    "\n",
    "            current_node.next = node\n",
    "\n",
    "    def delete_node(self, data):\n",
    "        current_node = self.head\n",
    "\n",
    "        if current_node.data == data:\n",
    "            self.head = current_node.next\n",
    "\n",
    "        while current_node.next and current_node.next.data != data:\n",
    "            current_node = current_node.next\n",
    "\n",
    "        if current_node.next == None:\n",
    "            return\n",
    "        else:\n",
    "            current_node.next = current_node.next.next\n",
    "\n",
    "\n",
    "    def print(self):\n",
    "        current_node = self.head\n",
    "\n",
    "        while current_node:\n",
    "            print(f\"{current_node.data}-->\", end=\"\")\n",
    "            current_node = current_node.next\n",
    "\n",
    "        print()\n",
    "\n",
    "\n",
    "\n"
   ]
  },
  {
   "cell_type": "markdown",
   "metadata": {},
   "source": [
    "The print method allow us to see if the list is actually working."
   ]
  },
  {
   "cell_type": "code",
   "execution_count": 13,
   "metadata": {},
   "outputs": [
    {
     "name": "stdout",
     "output_type": "stream",
     "text": [
      "1-->2-->3-->4-->\n",
      "1-->3-->4-->\n"
     ]
    }
   ],
   "source": [
    "ll = LinkedList()\n",
    "\n",
    "node1 = Node(1)\n",
    "node2 = Node(2)\n",
    "node3 = Node(3)\n",
    "node4 = Node(4)\n",
    "\n",
    "ll.insert_node(node1)\n",
    "ll.insert_node(node2)\n",
    "ll.insert_node(node3)\n",
    "ll.insert_node(node4)\n",
    "\n",
    "ll.print()\n",
    "\n",
    "ll.delete_node(2)\n",
    "\n",
    "ll.print()\n"
   ]
  },
  {
   "cell_type": "markdown",
   "metadata": {},
   "source": [
    "Here is a working linked list!\n",
    "\n",
    "Of course there are a number of improvments we could make to our class.\n",
    " - Implement a 'previous' member variable in the node class to allow for forwards or backwards traversal.\n",
    " - An insert/delete/edit at a certain index.\n",
    " - A 'tail' member variable in the LinkedList class which would allow us to access the rear of the list."
   ]
  }
 ],
 "metadata": {
  "kernelspec": {
   "display_name": "Python 3.8.9 64-bit",
   "language": "python",
   "name": "python3"
  },
  "language_info": {
   "codemirror_mode": {
    "name": "ipython",
    "version": 3
   },
   "file_extension": ".py",
   "mimetype": "text/x-python",
   "name": "python",
   "nbconvert_exporter": "python",
   "pygments_lexer": "ipython3",
   "version": "3.8.9"
  },
  "orig_nbformat": 4,
  "vscode": {
   "interpreter": {
    "hash": "31f2aee4e71d21fbe5cf8b01ff0e069b9275f58929596ceb00d14d90e3e16cd6"
   }
  }
 },
 "nbformat": 4,
 "nbformat_minor": 2
}
